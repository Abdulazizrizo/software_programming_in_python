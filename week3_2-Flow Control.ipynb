{
 "cells": [
  {
   "cell_type": "markdown",
   "metadata": {},
   "source": [
    "# Flow Control (2/2)\n",
    "- review Control Statements (if else)\n",
    "- while loop\n",
    "    - trapped in infinite loop\n",
    "    - break\n",
    "    - continue\n",
    "- for loop\n",
    "    - range()\n",
    "\n",
    "- for loop vs. while loop\n",
    "    - difference\n",
    "    - for loops are concise\n",
    "        - start and stop in range\n",
    "- Importing Modules\n",
    "    - built in functions\n",
    "- A Short Program: Guess the Number\n",
    "    -  Ask the player to guess 6 times."
   ]
  },
  {
   "cell_type": "markdown",
   "metadata": {},
   "source": [
    "## Review: Flow Control statements\n",
    "- "
   ]
  },
  {
   "cell_type": "code",
   "execution_count": null,
   "metadata": {},
   "outputs": [],
   "source": [
    "name = 'Carol'\n",
    "age = 3000\n",
    "if name == 'Alice':# IF\n",
    "    print('Hi, Alice.')\n",
    "elif age < 12: # ELIF\n",
    "    print('You are not Alice, kiddo.')\n",
    "else: # ELSE \n",
    "    print('You are neither Alice nor a little kid.')"
   ]
  },
  {
   "cell_type": "code",
   "execution_count": 7,
   "metadata": {},
   "outputs": [
    {
     "name": "stdout",
     "output_type": "stream",
     "text": [
      "Hi, Carol.\n"
     ]
    }
   ],
   "source": [
    "name = 'Carol'\n",
    "age = 3000\n",
    "if name == 'Carol':# IF\n",
    "    # BELOW code blockl will EXECUTE\n",
    "    print('Hi, Carol.')"
   ]
  },
  {
   "cell_type": "code",
   "execution_count": 8,
   "metadata": {},
   "outputs": [
    {
     "data": {
      "text/plain": [
       "False"
      ]
     },
     "execution_count": 8,
     "metadata": {},
     "output_type": "execute_result"
    }
   ],
   "source": [
    "'Carol' == 'Alice'"
   ]
  },
  {
   "cell_type": "code",
   "execution_count": 9,
   "metadata": {},
   "outputs": [
    {
     "data": {
      "text/plain": [
       "False"
      ]
     },
     "execution_count": 9,
     "metadata": {},
     "output_type": "execute_result"
    }
   ],
   "source": [
    "age < 12"
   ]
  },
  {
   "cell_type": "code",
   "execution_count": 10,
   "metadata": {},
   "outputs": [
    {
     "data": {
      "text/plain": [
       "False"
      ]
     },
     "execution_count": 10,
     "metadata": {},
     "output_type": "execute_result"
    }
   ],
   "source": [
    "name = 'Carol'\n",
    "age = 3000\n",
    "name == 'Alice'"
   ]
  },
  {
   "cell_type": "code",
   "execution_count": 11,
   "metadata": {},
   "outputs": [
    {
     "data": {
      "text/plain": [
       "False"
      ]
     },
     "execution_count": 11,
     "metadata": {},
     "output_type": "execute_result"
    }
   ],
   "source": [
    "age < 12"
   ]
  },
  {
   "cell_type": "code",
   "execution_count": 17,
   "metadata": {},
   "outputs": [
    {
     "name": "stdout",
     "output_type": "stream",
     "text": [
      "Hi, Alice.\n"
     ]
    }
   ],
   "source": [
    "name = input()\n",
    "age = 3\n",
    "if 'C' in name:\n",
    "    print(\"your name has C in it\") \n",
    "elif name == 'Alice':# this will evaluate down to False\n",
    "    # if this block exeutes, then rest of the control statements will not execute\n",
    "    print('Hi, Alice.')# executes this line, 8 people // if False, skip this line\n",
    "elif age < 12: # ELse if \n",
    "    print('You are not Alice, kiddo.') # will execute 5\n",
    "else: # ELSE means if all above are False, execute this line\n",
    "    print('You are neither Alice nor a little kid.') # 28"
   ]
  },
  {
   "cell_type": "code",
   "execution_count": null,
   "metadata": {},
   "outputs": [],
   "source": []
  },
  {
   "cell_type": "markdown",
   "metadata": {},
   "source": [
    "## while loop\n",
    "- loop implies repitition\n",
    "- while loop keeps repeating while the condition is true"
   ]
  },
  {
   "cell_type": "code",
   "execution_count": 3,
   "metadata": {},
   "outputs": [
    {
     "data": {
      "text/plain": [
       "False"
      ]
     },
     "execution_count": 3,
     "metadata": {},
     "output_type": "execute_result"
    }
   ],
   "source": [
    "counter<5"
   ]
  },
  {
   "cell_type": "code",
   "execution_count": 4,
   "metadata": {},
   "outputs": [
    {
     "data": {
      "text/plain": [
       "5"
      ]
     },
     "execution_count": 4,
     "metadata": {},
     "output_type": "execute_result"
    }
   ],
   "source": [
    "counter "
   ]
  },
  {
   "cell_type": "code",
   "execution_count": 1,
   "metadata": {},
   "outputs": [
    {
     "name": "stdout",
     "output_type": "stream",
     "text": [
      "Please type your name . 1\n",
      "Please type your name . 2\n",
      "Please type your name . 3\n",
      "Please type your name . 4\n",
      "Please type your name . 5\n"
     ]
    }
   ],
   "source": [
    "counter = 0\n",
    "while counter<5:\n",
    "    # code block below keeps repeating\n",
    "    counter = counter + 1\n",
    "    print('Please type your name .', counter)\n",
    "    name = input()\n",
    "    # break statement\n"
   ]
  },
  {
   "cell_type": "code",
   "execution_count": 11,
   "metadata": {},
   "outputs": [
    {
     "name": "stdout",
     "output_type": "stream",
     "text": [
      "Please type your name . 0\n",
      "Please type your name . 1\n",
      "Please type your name . 2\n",
      "Please type your name . 3\n",
      "Please type your name . 4\n"
     ]
    }
   ],
   "source": [
    "for counter in range(1,5): # for is mmore consices compared while=    \n",
    "    print('Please type your name .', counter)\n",
    "    name = input()"
   ]
  },
  {
   "cell_type": "markdown",
   "metadata": {},
   "source": [
    "## for loop\n",
    "- repeat N times"
   ]
  },
  {
   "cell_type": "code",
   "execution_count": 8,
   "metadata": {},
   "outputs": [
    {
     "name": "stdout",
     "output_type": "stream",
     "text": [
      "2\n",
      "4\n",
      "6\n",
      "8\n"
     ]
    }
   ],
   "source": [
    "for i in range(1,10): # i is a variable\n",
    "    if i%2 == 0: # modulo operator \n",
    "        print(i)"
   ]
  },
  {
   "cell_type": "code",
   "execution_count": 10,
   "metadata": {},
   "outputs": [
    {
     "name": "stdout",
     "output_type": "stream",
     "text": [
      "2\n",
      "4\n",
      "6\n",
      "8\n",
      "10\n"
     ]
    }
   ],
   "source": [
    "for index_variable in [1,2,3,4,5]: # i is a variable that iterates over the sequence\n",
    "    print(index_variable*2)"
   ]
  },
  {
   "cell_type": "markdown",
   "metadata": {},
   "source": [
    "## for loop vs. while loop\n",
    "- for loop is used when the number of iterations is known \n",
    "- in the while loop, execution is done until the statement in the program is proved wrong"
   ]
  },
  {
   "cell_type": "code",
   "execution_count": null,
   "metadata": {},
   "outputs": [],
   "source": [
    "for i in range(10):\n",
    "    i_squared = i*i # i_squared is a variable\n",
    "    print(i, i_squared)"
   ]
  },
  {
   "cell_type": "code",
   "execution_count": 14,
   "metadata": {},
   "outputs": [
    {
     "name": "stdout",
     "output_type": "stream",
     "text": [
      "Dummy Message \n",
      "Dummy Message \n"
     ]
    }
   ],
   "source": [
    "# this program keeps asking for input until you enter stop\n",
    "while True:\n",
    "    print('Dummy Message ')\n",
    "    string_input = input() # string_input\n",
    "    if string_input == 'stop':\n",
    "        break # break the loop "
   ]
  },
  {
   "cell_type": "code",
   "execution_count": 13,
   "metadata": {},
   "outputs": [
    {
     "name": "stdout",
     "output_type": "stream",
     "text": [
      "Dummy Message \n",
      "you entered messdage\n",
      "Dummy Message \n",
      "you entered another message\n",
      "Dummy Message \n",
      "you entered stop\n"
     ]
    }
   ],
   "source": [
    "# this program keeps asking for input until you enter stop\n",
    "string_input = 'START'\n",
    "while string_input != 'stop': # will stop when statement is false\n",
    "    print('Dummy Message ')\n",
    "    string_input = input() # string_input\n",
    "    print(\"you entered\", string_input)\n",
    "    "
   ]
  },
  {
   "cell_type": "markdown",
   "metadata": {},
   "source": [
    "## importing modules\n",
    "- importing code from other place\n",
    "- no need to import built-in functions \n",
    "    - print()\n",
    "    - input()\n",
    "    - len()"
   ]
  },
  {
   "cell_type": "code",
   "execution_count": 15,
   "metadata": {},
   "outputs": [
    {
     "ename": "NameError",
     "evalue": "name 'random' is not defined",
     "output_type": "error",
     "traceback": [
      "\u001b[0;31m---------------------------------------------------------------------------\u001b[0m",
      "\u001b[0;31mNameError\u001b[0m                                 Traceback (most recent call last)",
      "\u001b[1;32m/Users/jumabek/teaching/software_programming_in_python/week3_2-Flow Control.ipynb Cell 24\u001b[0m in \u001b[0;36m<cell line: 1>\u001b[0;34m()\u001b[0m\n\u001b[0;32m----> <a href='vscode-notebook-cell:/Users/jumabek/teaching/software_programming_in_python/week3_2-Flow%20Control.ipynb#Y105sZmlsZQ%3D%3D?line=0'>1</a>\u001b[0m random\u001b[39m.\u001b[39mrandint(\u001b[39m1\u001b[39m,\u001b[39m10\u001b[39m)\n",
      "\u001b[0;31mNameError\u001b[0m: name 'random' is not defined"
     ]
    }
   ],
   "source": [
    "random.randint(1,10)\n"
   ]
  },
  {
   "cell_type": "code",
   "execution_count": null,
   "metadata": {},
   "outputs": [],
   "source": []
  },
  {
   "cell_type": "code",
   "execution_count": 16,
   "metadata": {},
   "outputs": [],
   "source": [
    "import random # random is not built in fun ction, therefore we import in order to use it\n"
   ]
  },
  {
   "cell_type": "code",
   "execution_count": 17,
   "metadata": {},
   "outputs": [
    {
     "data": {
      "text/plain": [
       "17"
      ]
     },
     "execution_count": 17,
     "metadata": {},
     "output_type": "execute_result"
    }
   ],
   "source": [
    "random.randint(2,20) # () is a function call"
   ]
  },
  {
   "cell_type": "code",
   "execution_count": 18,
   "metadata": {},
   "outputs": [
    {
     "data": {
      "text/plain": [
       "5"
      ]
     },
     "execution_count": 18,
     "metadata": {},
     "output_type": "execute_result"
    }
   ],
   "source": [
    "len('Hello') # len is a function"
   ]
  },
  {
   "cell_type": "code",
   "execution_count": null,
   "metadata": {},
   "outputs": [],
   "source": []
  },
  {
   "cell_type": "markdown",
   "metadata": {},
   "source": []
  },
  {
   "cell_type": "markdown",
   "metadata": {},
   "source": [
    "## A Short Program: Guess the Number"
   ]
  },
  {
   "cell_type": "markdown",
   "metadata": {},
   "source": [
    "- gets secret number from computert\n",
    "- asks user to guess  the number\n",
    "- and gives direction\n",
    "    - go higher\n",
    "    - go lower\n",
    "    "
   ]
  },
  {
   "cell_type": "markdown",
   "metadata": {},
   "source": []
  },
  {
   "cell_type": "code",
   "execution_count": 20,
   "metadata": {},
   "outputs": [
    {
     "name": "stdout",
     "output_type": "stream",
     "text": [
      "enter your guess\n",
      "your guess 5 is too low\n",
      "enter your guess\n",
      "your guess 15 is too high\n",
      "enter your guess\n",
      "your guess 10 is too high\n",
      "enter your guess\n",
      "your guess 7 is too low\n",
      "enter your guess\n",
      "you guessed it right. Congratz!\n"
     ]
    }
   ],
   "source": [
    "secret_number = random.randint(1,20) # should not change\n",
    "for attempt in range(5):\n",
    "    print(\"enter your guess\")\n",
    "    guess_number = int(input()) # asking for user input should inside the loop.\n",
    "    if guess_number == secret_number:\n",
    "        print(\"you guessed it right. Congratz!\")\n",
    "        break # break the loop, exits the loop\n",
    "    elif guess_number < secret_number:\n",
    "        print(f\"your guess {guess_number} is too low\")\n",
    "    elif guess_number>secret_number:\n",
    "        print(f\"your guess {guess_number} is too high\")\n"
   ]
  },
  {
   "cell_type": "code",
   "execution_count": null,
   "metadata": {},
   "outputs": [],
   "source": []
  },
  {
   "cell_type": "code",
   "execution_count": null,
   "metadata": {},
   "outputs": [],
   "source": []
  },
  {
   "cell_type": "code",
   "execution_count": null,
   "metadata": {},
   "outputs": [],
   "source": []
  },
  {
   "cell_type": "code",
   "execution_count": null,
   "metadata": {},
   "outputs": [],
   "source": [
    "secret_number = random.randint(1,20)\n",
    "for attempt in range(5):\n",
    "    guesssed_number = int(input())\n",
    "    if guesssed_number == secret_number:\n",
    "        print('You guessed it!')\n",
    "        break # finish the loop\n",
    "    elif guesssed_number< secret_number:\n",
    "        print(\"Go higher\")\n",
    "    elif guesssed_number> secret_number:\n",
    "        print(\"Go lower\") \n",
    "\n",
    "\n"
   ]
  },
  {
   "cell_type": "markdown",
   "metadata": {},
   "source": [
    "# Homework 3"
   ]
  },
  {
   "cell_type": "markdown",
   "metadata": {},
   "source": [
    "## Question 0:\n",
    "- assign your name to a variable \n",
    "- assign your student id to a variable\n",
    "- concatenate your name with your student id\n",
    "- print the result"
   ]
  },
  {
   "cell_type": "code",
   "execution_count": null,
   "metadata": {},
   "outputs": [],
   "source": []
  },
  {
   "cell_type": "markdown",
   "metadata": {},
   "source": [
    "## Q1: What are the two values of the Boolean data type? How do you write them?"
   ]
  },
  {
   "cell_type": "markdown",
   "metadata": {},
   "source": []
  },
  {
   "cell_type": "markdown",
   "metadata": {},
   "source": [
    "## Q2. What are the three Boolean operators?"
   ]
  },
  {
   "cell_type": "markdown",
   "metadata": {},
   "source": []
  },
  {
   "cell_type": "markdown",
   "metadata": {},
   "source": [
    "## Q3. Write out the truth tables of each Boolean operator (that is, every possible combination of Boolean values for the operator and what they evaluate to)."
   ]
  },
  {
   "cell_type": "markdown",
   "metadata": {},
   "source": []
  },
  {
   "cell_type": "markdown",
   "metadata": {},
   "source": [
    "## Q4: What do the following expressions evaluate to? First row is already done as an example\n",
    "- (5 > 4) and (3 == 5) # this will  => True and False => \n",
    "- not (5 > 4)\n",
    "- (5 > 4) or (3 == 5)\n",
    "- not ((5 > 4) or (3 == 5))\n",
    "- (True and True) and (True == False)\n",
    "- (not False) or (not True)"
   ]
  },
  {
   "cell_type": "markdown",
   "metadata": {},
   "source": [
    "### following will evaluate to False\n",
    "- (5 > 4) and (3 == 5) # this will first evaluate into => True and False => False\n"
   ]
  },
  {
   "cell_type": "markdown",
   "metadata": {},
   "source": []
  },
  {
   "cell_type": "markdown",
   "metadata": {},
   "source": [
    "## Q5. What are the six comparison operators?"
   ]
  },
  {
   "cell_type": "markdown",
   "metadata": {},
   "source": []
  },
  {
   "cell_type": "markdown",
   "metadata": {},
   "source": [
    "## Q6. What is the difference between the equal to operator and the assignment operator?"
   ]
  },
  {
   "cell_type": "markdown",
   "metadata": {},
   "source": []
  },
  {
   "cell_type": "markdown",
   "metadata": {},
   "source": [
    "## Q7. Explain what a condition is and where you would use one."
   ]
  },
  {
   "cell_type": "markdown",
   "metadata": {},
   "source": []
  },
  {
   "cell_type": "markdown",
   "metadata": {},
   "source": [
    "## Q8. Identify the three blocks in this code:"
   ]
  },
  {
   "cell_type": "markdown",
   "metadata": {},
   "source": []
  }
 ],
 "metadata": {
  "kernelspec": {
   "display_name": "Python 3.10.4 ('softwareprogramming')",
   "language": "python",
   "name": "python3"
  },
  "language_info": {
   "codemirror_mode": {
    "name": "ipython",
    "version": 3
   },
   "file_extension": ".py",
   "mimetype": "text/x-python",
   "name": "python",
   "nbconvert_exporter": "python",
   "pygments_lexer": "ipython3",
   "version": "3.10.4"
  },
  "orig_nbformat": 4,
  "vscode": {
   "interpreter": {
    "hash": "a6623260947152f84f9cd517aa7c2232a7be449b2413b407550a67ad2d2d4a04"
   }
  }
 },
 "nbformat": 4,
 "nbformat_minor": 2
}
