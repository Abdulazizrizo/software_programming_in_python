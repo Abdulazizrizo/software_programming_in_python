{
 "cells": [
  {
   "cell_type": "code",
   "execution_count": null,
   "metadata": {},
   "outputs": [],
   "source": []
  },
  {
   "cell_type": "markdown",
   "metadata": {},
   "source": []
  },
  {
   "cell_type": "markdown",
   "metadata": {},
   "source": []
  },
  {
   "cell_type": "markdown",
   "metadata": {},
   "source": [
    "# The List Data Type\n"
   ]
  },
  {
   "cell_type": "code",
   "execution_count": 2,
   "metadata": {},
   "outputs": [],
   "source": [
    "my_list_var =  [1, 2, 3]"
   ]
  },
  {
   "cell_type": "code",
   "execution_count": 7,
   "metadata": {},
   "outputs": [
    {
     "data": {
      "text/plain": [
       "list"
      ]
     },
     "execution_count": 7,
     "metadata": {},
     "output_type": "execute_result"
    }
   ],
   "source": [
    "type(my_list_var)"
   ]
  },
  {
   "cell_type": "code",
   "execution_count": null,
   "metadata": {},
   "outputs": [],
   "source": [
    "student_names = ['Javokhir', ]"
   ]
  },
  {
   "cell_type": "code",
   "execution_count": 5,
   "metadata": {},
   "outputs": [
    {
     "data": {
      "text/plain": [
       "['cat', 'bat', 'horse', 'elephant']"
      ]
     },
     "execution_count": 5,
     "metadata": {},
     "output_type": "execute_result"
    }
   ],
   "source": [
    "animals = ['cat', 'bat', 'horse', 'elephant']\n",
    "animals"
   ]
  },
  {
   "cell_type": "code",
   "execution_count": 6,
   "metadata": {},
   "outputs": [
    {
     "data": {
      "text/plain": [
       "['hello', 3.1415, True, None, 42]"
      ]
     },
     "execution_count": 6,
     "metadata": {},
     "output_type": "execute_result"
    }
   ],
   "source": [
    "my_list_with_mixed_data_type= ['hello', 3.1415, True, None, 42]\n",
    "my_list_with_mixed_data_type"
   ]
  },
  {
   "cell_type": "code",
   "execution_count": null,
   "metadata": {},
   "outputs": [],
   "source": [
    "spam = ['cat', 'bat', 'rat', 'elephant']"
   ]
  },
  {
   "cell_type": "markdown",
   "metadata": {},
   "source": [
    "# Getting Individual Values in a List with Indexes\n"
   ]
  },
  {
   "cell_type": "code",
   "execution_count": 8,
   "metadata": {},
   "outputs": [
    {
     "data": {
      "text/plain": [
       "'hello'"
      ]
     },
     "execution_count": 8,
     "metadata": {},
     "output_type": "execute_result"
    }
   ],
   "source": [
    "my_list_with_mixed_data_type[0]"
   ]
  },
  {
   "cell_type": "code",
   "execution_count": 9,
   "metadata": {},
   "outputs": [
    {
     "data": {
      "text/plain": [
       "3.1415"
      ]
     },
     "execution_count": 9,
     "metadata": {},
     "output_type": "execute_result"
    }
   ],
   "source": [
    "my_list_with_mixed_data_type[1]"
   ]
  },
  {
   "cell_type": "code",
   "execution_count": null,
   "metadata": {},
   "outputs": [],
   "source": []
  },
  {
   "cell_type": "markdown",
   "metadata": {},
   "source": [
    "# Negative Indexes\n"
   ]
  },
  {
   "cell_type": "markdown",
   "metadata": {},
   "source": [
    "- you can use any valid variable names for naming the list"
   ]
  },
  {
   "cell_type": "code",
   "execution_count": 18,
   "metadata": {},
   "outputs": [],
   "source": [
    "any_name= ['hello', 3.1415, True, None, 42]"
   ]
  },
  {
   "cell_type": "code",
   "execution_count": 19,
   "metadata": {},
   "outputs": [
    {
     "name": "stdout",
     "output_type": "stream",
     "text": [
      "True\n"
     ]
    }
   ],
   "source": [
    "I = 2\n",
    "print(any_name[I])"
   ]
  },
  {
   "cell_type": "code",
   "execution_count": 15,
   "metadata": {},
   "outputs": [
    {
     "ename": "IndexError",
     "evalue": "list index out of range",
     "output_type": "error",
     "traceback": [
      "\u001b[1;31m---------------------------------------------------------------------------\u001b[0m",
      "\u001b[1;31mIndexError\u001b[0m                                Traceback (most recent call last)",
      "\u001b[1;32mc:\\Users\\SAMSUNG\\Downloads\\software_programming_in_python\\week5_1-Lists.ipynb 셀 18\u001b[0m in \u001b[0;36m<cell line: 1>\u001b[1;34m()\u001b[0m\n\u001b[1;32m----> <a href='vscode-notebook-cell:/c%3A/Users/SAMSUNG/Downloads/software_programming_in_python/week5_1-Lists.ipynb#X56sZmlsZQ%3D%3D?line=0'>1</a>\u001b[0m my_list_with_mixed_data_type[\u001b[39m5\u001b[39;49m]\n",
      "\u001b[1;31mIndexError\u001b[0m: list index out of range"
     ]
    }
   ],
   "source": [
    "my_list_with_mixed_data_type[5]"
   ]
  },
  {
   "cell_type": "markdown",
   "metadata": {},
   "source": [
    "# Getting a List from Another List with Slices\n",
    "- one integer index\n",
    "- two integer slice\n"
   ]
  },
  {
   "cell_type": "code",
   "execution_count": 20,
   "metadata": {},
   "outputs": [
    {
     "data": {
      "text/plain": [
       "['hello', 3.1415, True, None, 42]"
      ]
     },
     "execution_count": 20,
     "metadata": {},
     "output_type": "execute_result"
    }
   ],
   "source": [
    "any_name"
   ]
  },
  {
   "cell_type": "code",
   "execution_count": 23,
   "metadata": {},
   "outputs": [
    {
     "data": {
      "text/plain": [
       "[3.1415, True, None]"
      ]
     },
     "execution_count": 23,
     "metadata": {},
     "output_type": "execute_result"
    }
   ],
   "source": [
    "new_list = any_name[1:4] # slicing the list. first is inclusive\n",
    "new_list"
   ]
  },
  {
   "cell_type": "code",
   "execution_count": 24,
   "metadata": {},
   "outputs": [
    {
     "data": {
      "text/plain": [
       "['hello', 3.1415, True, None]"
      ]
     },
     "execution_count": 24,
     "metadata": {},
     "output_type": "execute_result"
    }
   ],
   "source": [
    "any_name[:4]# from the beginning till inded 4"
   ]
  },
  {
   "cell_type": "code",
   "execution_count": 25,
   "metadata": {},
   "outputs": [
    {
     "data": {
      "text/plain": [
       "[True, None, 42]"
      ]
     },
     "execution_count": 25,
     "metadata": {},
     "output_type": "execute_result"
    }
   ],
   "source": [
    "any_name[2:] # from the index 2, till the end"
   ]
  },
  {
   "cell_type": "code",
   "execution_count": 36,
   "metadata": {},
   "outputs": [
    {
     "data": {
      "text/plain": [
       "[None, 42]"
      ]
     },
     "execution_count": 36,
     "metadata": {},
     "output_type": "execute_result"
    }
   ],
   "source": [
    "middle_point = len(any_name)//2 # pirovt_index variable to store the middle point of the list\n",
    "any_name = any_name[middle_point:]\n",
    "any_name"
   ]
  },
  {
   "cell_type": "code",
   "execution_count": 42,
   "metadata": {},
   "outputs": [
    {
     "data": {
      "text/plain": [
       "['cat', 'bat', 'horse', 'elephant']"
      ]
     },
     "execution_count": 42,
     "metadata": {},
     "output_type": "execute_result"
    }
   ],
   "source": [
    "animals"
   ]
  },
  {
   "cell_type": "code",
   "execution_count": 43,
   "metadata": {},
   "outputs": [
    {
     "data": {
      "text/plain": [
       "4"
      ]
     },
     "execution_count": 43,
     "metadata": {},
     "output_type": "execute_result"
    }
   ],
   "source": [
    "len(animals)"
   ]
  },
  {
   "cell_type": "code",
   "execution_count": 44,
   "metadata": {},
   "outputs": [
    {
     "data": {
      "text/plain": [
       "2"
      ]
     },
     "execution_count": 44,
     "metadata": {},
     "output_type": "execute_result"
    }
   ],
   "source": [
    "middle_point = len(animals)//2\n",
    "middle_point\n"
   ]
  },
  {
   "cell_type": "code",
   "execution_count": 45,
   "metadata": {},
   "outputs": [
    {
     "data": {
      "text/plain": [
       "'horse'"
      ]
     },
     "execution_count": 45,
     "metadata": {},
     "output_type": "execute_result"
    }
   ],
   "source": [
    "animals[middle_point]"
   ]
  },
  {
   "cell_type": "markdown",
   "metadata": {},
   "source": [
    "# Getting a List’s Length with the len() Function\n",
    "- depending on the data type meaning of operators can change\n",
    "    - len()\n",
    "    - *"
   ]
  },
  {
   "cell_type": "code",
   "execution_count": 34,
   "metadata": {},
   "outputs": [
    {
     "data": {
      "text/plain": [
       "6"
      ]
     },
     "execution_count": 34,
     "metadata": {},
     "output_type": "execute_result"
    }
   ],
   "source": [
    "2*3"
   ]
  },
  {
   "cell_type": "code",
   "execution_count": 35,
   "metadata": {},
   "outputs": [
    {
     "data": {
      "text/plain": [
       "'hellohellohello'"
      ]
     },
     "execution_count": 35,
     "metadata": {},
     "output_type": "execute_result"
    }
   ],
   "source": [
    "'hello'*3"
   ]
  },
  {
   "cell_type": "code",
   "execution_count": null,
   "metadata": {},
   "outputs": [],
   "source": []
  },
  {
   "cell_type": "code",
   "execution_count": 29,
   "metadata": {},
   "outputs": [
    {
     "data": {
      "text/plain": [
       "7"
      ]
     },
     "execution_count": 29,
     "metadata": {},
     "output_type": "execute_result"
    }
   ],
   "source": [
    "len('message')"
   ]
  },
  {
   "cell_type": "code",
   "execution_count": 30,
   "metadata": {},
   "outputs": [
    {
     "data": {
      "text/plain": [
       "3"
      ]
     },
     "execution_count": 30,
     "metadata": {},
     "output_type": "execute_result"
    }
   ],
   "source": [
    "len(any_name)"
   ]
  },
  {
   "cell_type": "code",
   "execution_count": 31,
   "metadata": {},
   "outputs": [
    {
     "data": {
      "text/plain": [
       "[True, None, 42]"
      ]
     },
     "execution_count": 31,
     "metadata": {},
     "output_type": "execute_result"
    }
   ],
   "source": [
    "any_name"
   ]
  },
  {
   "cell_type": "code",
   "execution_count": 32,
   "metadata": {},
   "outputs": [
    {
     "data": {
      "text/plain": [
       "['cat', 'bat', 'horse', 'elephant']"
      ]
     },
     "execution_count": 32,
     "metadata": {},
     "output_type": "execute_result"
    }
   ],
   "source": [
    "animals"
   ]
  },
  {
   "cell_type": "code",
   "execution_count": 33,
   "metadata": {},
   "outputs": [
    {
     "data": {
      "text/plain": [
       "4"
      ]
     },
     "execution_count": 33,
     "metadata": {},
     "output_type": "execute_result"
    }
   ],
   "source": [
    "len(animals) "
   ]
  },
  {
   "cell_type": "markdown",
   "metadata": {},
   "source": [
    "# Changing Values in a List with Indexes\n"
   ]
  },
  {
   "cell_type": "code",
   "execution_count": 37,
   "metadata": {},
   "outputs": [
    {
     "data": {
      "text/plain": [
       "['Javokhir', 'Habibullo']"
      ]
     },
     "execution_count": 37,
     "metadata": {},
     "output_type": "execute_result"
    }
   ],
   "source": [
    "ta_students= ['Javokhir', 'Habibullo']\n",
    "ta_students"
   ]
  },
  {
   "cell_type": "code",
   "execution_count": 38,
   "metadata": {},
   "outputs": [
    {
     "data": {
      "text/plain": [
       "['Humoyun', 'Habibullo']"
      ]
     },
     "execution_count": 38,
     "metadata": {},
     "output_type": "execute_result"
    }
   ],
   "source": [
    "ta_students[0] = 'Humoyun' # to change the value fo the list you can use indexing+assignment operator\n",
    "ta_students"
   ]
  },
  {
   "cell_type": "code",
   "execution_count": 39,
   "metadata": {},
   "outputs": [
    {
     "data": {
      "text/plain": [
       "['TA1', 'TA2']"
      ]
     },
     "execution_count": 39,
     "metadata": {},
     "output_type": "execute_result"
    }
   ],
   "source": [
    "ta_students = ['TA1','TA2']\n",
    "ta_students"
   ]
  },
  {
   "cell_type": "code",
   "execution_count": 40,
   "metadata": {},
   "outputs": [
    {
     "data": {
      "text/plain": [
       "['TA1', 'TA3']"
      ]
     },
     "execution_count": 40,
     "metadata": {},
     "output_type": "execute_result"
    }
   ],
   "source": [
    "ta_students[1]='TA3'\n",
    "ta_students"
   ]
  },
  {
   "cell_type": "code",
   "execution_count": 41,
   "metadata": {},
   "outputs": [
    {
     "data": {
      "text/plain": [
       "['TA1', 'TA64']"
      ]
     },
     "execution_count": 41,
     "metadata": {},
     "output_type": "execute_result"
    }
   ],
   "source": [
    "ta_students[-1] = 'TA64'\n",
    "ta_students"
   ]
  },
  {
   "cell_type": "markdown",
   "metadata": {},
   "source": [
    "# List Concatenation and List Replication\n"
   ]
  },
  {
   "cell_type": "code",
   "execution_count": 46,
   "metadata": {},
   "outputs": [],
   "source": [
    "TAs_of_001 = ['Javokhir','Habibullo']\n",
    "TAs_of_002 = ['Asadbek','Shamsqamar']\n",
    "\n"
   ]
  },
  {
   "cell_type": "code",
   "execution_count": 49,
   "metadata": {},
   "outputs": [
    {
     "data": {
      "text/plain": [
       "'Hello Class'"
      ]
     },
     "execution_count": 49,
     "metadata": {},
     "output_type": "execute_result"
    }
   ],
   "source": [
    "'Hello' +' '+'Class'"
   ]
  },
  {
   "cell_type": "code",
   "execution_count": 50,
   "metadata": {},
   "outputs": [
    {
     "name": "stdout",
     "output_type": "stream",
     "text": [
      "Hello Class\n"
     ]
    }
   ],
   "source": [
    "s = 'Hello' +' '+'Class' # this is a concatation expression\n",
    "print(s)"
   ]
  },
  {
   "cell_type": "code",
   "execution_count": 51,
   "metadata": {},
   "outputs": [
    {
     "data": {
      "text/plain": [
       "11"
      ]
     },
     "execution_count": 51,
     "metadata": {},
     "output_type": "execute_result"
    }
   ],
   "source": [
    "len(s)"
   ]
  },
  {
   "cell_type": "code",
   "execution_count": 47,
   "metadata": {},
   "outputs": [
    {
     "data": {
      "text/plain": [
       "['Javokhir', 'Habibullo', 'Asadbek', 'Shamsqamar']"
      ]
     },
     "execution_count": 47,
     "metadata": {},
     "output_type": "execute_result"
    }
   ],
   "source": [
    "TAs = TAs_of_001 + TAs_of_002  # concatematopm operator \n",
    "TAs"
   ]
  },
  {
   "cell_type": "code",
   "execution_count": 48,
   "metadata": {},
   "outputs": [
    {
     "data": {
      "text/plain": [
       "['Javokhir', 'Habibullo', 'Asadbek', 'Shamsqamar']"
      ]
     },
     "execution_count": 48,
     "metadata": {},
     "output_type": "execute_result"
    }
   ],
   "source": [
    "TAs"
   ]
  },
  {
   "cell_type": "code",
   "execution_count": 52,
   "metadata": {},
   "outputs": [
    {
     "data": {
      "text/plain": [
       "[70]"
      ]
     },
     "execution_count": 52,
     "metadata": {},
     "output_type": "execute_result"
    }
   ],
   "source": [
    "students_score = [ 70]\n",
    "students_score"
   ]
  },
  {
   "cell_type": "code",
   "execution_count": 53,
   "metadata": {},
   "outputs": [
    {
     "data": {
      "text/plain": [
       "1"
      ]
     },
     "execution_count": 53,
     "metadata": {},
     "output_type": "execute_result"
    }
   ],
   "source": [
    "len(students_score)"
   ]
  },
  {
   "cell_type": "code",
   "execution_count": 55,
   "metadata": {},
   "outputs": [
    {
     "data": {
      "text/plain": [
       "60"
      ]
     },
     "execution_count": 55,
     "metadata": {},
     "output_type": "execute_result"
    }
   ],
   "source": [
    "# make stuents_score variable store every students score: average\n",
    "students_score = [ 70] * 60\n",
    "len(students_score)"
   ]
  },
  {
   "cell_type": "markdown",
   "metadata": {},
   "source": [
    "# Removing Values from Lists with del Statements\n"
   ]
  },
  {
   "cell_type": "code",
   "execution_count": 63,
   "metadata": {},
   "outputs": [],
   "source": [
    "contacts = [\"Person A\", \"Person B\", \"Person X\"] # image 1000x1000 pixes 10^6"
   ]
  },
  {
   "cell_type": "code",
   "execution_count": 64,
   "metadata": {},
   "outputs": [
    {
     "data": {
      "text/plain": [
       "['Person X']"
      ]
     },
     "execution_count": 64,
     "metadata": {},
     "output_type": "execute_result"
    }
   ],
   "source": [
    "del contacts[:2]\n",
    "contacts"
   ]
  },
  {
   "cell_type": "code",
   "execution_count": 65,
   "metadata": {},
   "outputs": [],
   "source": [
    "del contacts"
   ]
  },
  {
   "cell_type": "code",
   "execution_count": 66,
   "metadata": {},
   "outputs": [
    {
     "ename": "NameError",
     "evalue": "name 'contacts' is not defined",
     "output_type": "error",
     "traceback": [
      "\u001b[1;31m---------------------------------------------------------------------------\u001b[0m",
      "\u001b[1;31mNameError\u001b[0m                                 Traceback (most recent call last)",
      "\u001b[1;32mc:\\Users\\SAMSUNG\\Downloads\\software_programming_in_python\\week5_1-Lists.ipynb 셀 59\u001b[0m in \u001b[0;36m<cell line: 1>\u001b[1;34m()\u001b[0m\n\u001b[1;32m----> <a href='vscode-notebook-cell:/c%3A/Users/SAMSUNG/Downloads/software_programming_in_python/week5_1-Lists.ipynb#Y134sZmlsZQ%3D%3D?line=0'>1</a>\u001b[0m contacts\n",
      "\u001b[1;31mNameError\u001b[0m: name 'contacts' is not defined"
     ]
    }
   ],
   "source": [
    "contacts"
   ]
  },
  {
   "cell_type": "code",
   "execution_count": 58,
   "metadata": {},
   "outputs": [
    {
     "data": {
      "text/plain": [
       "['Person A', 'Person B']"
      ]
     },
     "execution_count": 58,
     "metadata": {},
     "output_type": "execute_result"
    }
   ],
   "source": [
    "del contacts[2] \n",
    "contacts"
   ]
  },
  {
   "cell_type": "code",
   "execution_count": 59,
   "metadata": {},
   "outputs": [
    {
     "data": {
      "text/plain": [
       "['Person B']"
      ]
     },
     "execution_count": 59,
     "metadata": {},
     "output_type": "execute_result"
    }
   ],
   "source": [
    "del contacts[0] \n",
    "contacts"
   ]
  },
  {
   "cell_type": "code",
   "execution_count": null,
   "metadata": {},
   "outputs": [],
   "source": []
  },
  {
   "cell_type": "markdown",
   "metadata": {},
   "source": [
    "# Working with Lists\n",
    "- lists can help store a group of similar values in a better way\n",
    "    - more organized\n",
    "    - less duplicate"
   ]
  },
  {
   "cell_type": "code",
   "execution_count": null,
   "metadata": {},
   "outputs": [],
   "source": [
    "catName1 = 'Zophie'\n",
    "catName2 = 'Pooka'\n",
    "catName3 = 'Simon'\n",
    "catName4 = 'Lady Macbeth'\n",
    "catName5 = 'Fat-tail'\n",
    "catName6 = 'Miss Cleo'"
   ]
  },
  {
   "cell_type": "code",
   "execution_count": null,
   "metadata": {},
   "outputs": [],
   "source": [
    "# see the example codes"
   ]
  },
  {
   "cell_type": "markdown",
   "metadata": {},
   "source": [
    "# For loops with lists"
   ]
  },
  {
   "cell_type": "code",
   "execution_count": null,
   "metadata": {},
   "outputs": [],
   "source": [
    "supplies = ['pens', 'staplers', 'flamethrowers', 'binders']\n",
    "for i in range(len(supplies)):\n",
    "    print('Index ' + str(i) + ' in supplies is: ' + supplies[i])"
   ]
  },
  {
   "cell_type": "code",
   "execution_count": null,
   "metadata": {},
   "outputs": [],
   "source": []
  },
  {
   "cell_type": "markdown",
   "metadata": {},
   "source": [
    "# Using Enumerate"
   ]
  },
  {
   "cell_type": "code",
   "execution_count": null,
   "metadata": {},
   "outputs": [],
   "source": [
    "\n"
   ]
  },
  {
   "cell_type": "markdown",
   "metadata": {},
   "source": [
    "# The in and not in Operators\n",
    "- in checks if element is inside the list\n",
    "- not in checks if the element is not inside the list"
   ]
  },
  {
   "cell_type": "code",
   "execution_count": null,
   "metadata": {},
   "outputs": [],
   "source": [
    "'howdy' in ['hello', 'hi', 'howdy', 'heyas']"
   ]
  },
  {
   "cell_type": "code",
   "execution_count": null,
   "metadata": {},
   "outputs": [],
   "source": []
  },
  {
   "cell_type": "markdown",
   "metadata": {},
   "source": [
    "# Using the random.choice() and random.shuffle() Functions with Lists\n",
    "- choice will randomly select index\n",
    "- shuffle shuffles the order"
   ]
  },
  {
   "cell_type": "code",
   "execution_count": null,
   "metadata": {},
   "outputs": [],
   "source": []
  },
  {
   "cell_type": "markdown",
   "metadata": {},
   "source": [
    "#  Augmented Assignment Operators\n",
    "- When assigning a value to a variable, we frequently use the variable itself. \n",
    "- augmented operators\n",
    "    - `+`\n",
    "    - `-`\n",
    "    - `*`\n",
    "    - `/`\n",
    "    - `%`"
   ]
  },
  {
   "cell_type": "markdown",
   "metadata": {},
   "source": []
  },
  {
   "cell_type": "markdown",
   "metadata": {},
   "source": []
  },
  {
   "cell_type": "code",
   "execution_count": null,
   "metadata": {},
   "outputs": [],
   "source": []
  },
  {
   "cell_type": "markdown",
   "metadata": {},
   "source": [
    "# Methods\n"
   ]
  },
  {
   "cell_type": "markdown",
   "metadata": {},
   "source": [
    "## finding a value in a list with the index() Method\n"
   ]
  },
  {
   "cell_type": "code",
   "execution_count": null,
   "metadata": {},
   "outputs": [],
   "source": [
    "spam = ['hello', 'hi', 'howdy', 'heyas']"
   ]
  },
  {
   "cell_type": "markdown",
   "metadata": {},
   "source": [
    "## Adding Values to Lists with the append() and insert() Methods\n"
   ]
  },
  {
   "cell_type": "code",
   "execution_count": null,
   "metadata": {},
   "outputs": [],
   "source": [
    "spam = ['cat', 'dog', 'bat']"
   ]
  },
  {
   "cell_type": "markdown",
   "metadata": {},
   "source": [
    "## Removing Values from Lists with the remove() Method\n",
    " "
   ]
  },
  {
   "cell_type": "code",
   "execution_count": null,
   "metadata": {},
   "outputs": [],
   "source": [
    "spam = ['cat', 'bat', 'rat', 'elephant']"
   ]
  },
  {
   "cell_type": "markdown",
   "metadata": {},
   "source": [
    "### del vs remove"
   ]
  },
  {
   "cell_type": "code",
   "execution_count": null,
   "metadata": {},
   "outputs": [],
   "source": []
  },
  {
   "cell_type": "markdown",
   "metadata": {},
   "source": [
    "## Sorting the Values in a List with the sort() Method\n"
   ]
  },
  {
   "cell_type": "code",
   "execution_count": null,
   "metadata": {},
   "outputs": [],
   "source": [
    "##"
   ]
  },
  {
   "cell_type": "markdown",
   "metadata": {},
   "source": [
    "## Reversing the Values in a List with the reverse() Method\n"
   ]
  },
  {
   "cell_type": "code",
   "execution_count": null,
   "metadata": {},
   "outputs": [],
   "source": []
  },
  {
   "cell_type": "markdown",
   "metadata": {},
   "source": [
    "## Example Program \n",
    "- write a code for randomly selecting a student from the list of students\n"
   ]
  },
  {
   "cell_type": "code",
   "execution_count": null,
   "metadata": {},
   "outputs": [],
   "source": [
    "div001_student_names=[\n",
    "    'Sirojiddinov Abdulaziz Ulugbek Ugli',\n",
    "    'Abdukarimov Humoyunbek Olimjon Ugli',\n",
    "    'Ochilov Shokhrukh Uchkun Ugli',\n",
    "    'Abdurasulov Farrukhbek Ziyovuddin Ugli',\n",
    "    'Chutboev Habibullo Islombek Ugli',\n",
    "    'Ravshanbekov Khikmatullo Khayotbek Ugl',\n",
    "    'Matyakubov Azizbek Yorkinbek Ugli',\n",
    "    'Ilkhomov Akhrorbek Mardonbek Ugli',\n",
    "    'Shabonov Abdullo Abbos Ugli',\n",
    "    'Rasulov Elyor Dusyor Ugli',\n",
    "    'Yuldoshev Javokhir Yusufjon Ugli',\n",
    "    'Ghising Gyalchhen',\n",
    "    'Khursanov Nazarbek Ulugbek Ugli',\n",
    "    'Tologonova Datkaiym Temirbekovna',\n",
    "    'Bayasgalan Delgerjargal',\n",
    "    'Akhmadova Durdona Odiljon Kizi',\n",
    "    'Olimjonov Diyorjon Sohibjon Ugli',\n",
    "    'Akhmadova Dilnavoz Odiljon Kizi',\n",
    "    'Bakhromov Rustam Nozim Ugli',\n",
    "    'Egamkulova Makhliyo Abduraim Kizi',\n",
    "    'Orifova Mokhinur Khakim Kizi',\n",
    "    'Yusupov Murodilla Nizomiddin Ugli',\n",
    "    'Avazkhonov Murtazokhon Yusufkhon Ugli',\n",
    "    'Nosirkhonova Mubina Fakhriddin Kizi',\n",
    "    'Umarova Mukaddaskhon Khursandjon Kizi',\n",
    "    'Kodirov Muhammadkodir Shokir Ugli',\n",
    "    'Shavkatov Mukhammadazam Shukhratbek Ug',\n",
    "    'Tuychiev Mirjalol Kushmatjon Ugli',\n",
    "    'Karimov Bekhruzbek Gafurjon Ugli',\n",
    "    'Sultonov Begzod Azamat Ugli',\n",
    "    'Khatamjonov Bekzodjon Bunyodjon Ugli',\n",
    "    'Hamraev Sardor Khikmatovich',\n",
    "    'Urdushev Sarvar Ulugbek Ugli',\n",
    "    'Usmanov Sarvarbek Dilshod Ugli',\n",
    "    'Hoshimov Shahriyor Ahmadjon Ugli',\n",
    "    'Normamatova Shakhrizoda Gulomjon Kizi',\n",
    "    'Ibodullaeva Shakhzoda Khamidjon Kizi',\n",
    "    'Ozodov Sherzod Khamdam Ugli',\n",
    "    'Norboeva Sevinch Akmal Kizi',\n",
    "    'Yakhshimurodova Sevinchbonu Khudarga K',\n",
    "    'Shomurodov Shohruh Olimjon Ugli',\n",
    "    'Khaitov Shokhrukhjon Shukhrat Ugli',\n",
    "    'Tadzhieva Amira',\n",
    "    'Esanboev Abrorjon Akramjon Ugli',\n",
    "    'Fayzullaev Asadbek Khayrullo Ugli',\n",
    "    'Abduldaeva Aiana Ulanbekovna',\n",
    "    'Saydullaeva Aziza Olimovna',\n",
    "    'Akramov Akromjon Ikrom Ugli',\n",
    "    'Abdulkhaev Akbarjon Akhmad Ugli',\n",
    "    'Subkhiddinov Anvarbek Kambarjon Ugli',\n",
    "    'Dushamboev Ogabek Nurmat Ugli',\n",
    "    'Rayimkulov Otabek Ilkhomjon Ugli',\n",
    "    'Vahobova Ugiloy Bakhtiyor Kizi',\n",
    "    'Ergashev Ilhomjon Odiljon Ugli',\n",
    "    'Pirimova Zarnigor Akhadovna',\n",
    "    'Igamberdiev Javokhir Eldor Ugli',\n",
    "    'Bakhronova Jasmina Orzumurodovna',\n",
    "    'Khonimkulov Jaloliddin Ismatilla Ugli',\n",
    "    'Uralova Zebo Bahodirjon Kizi',\n",
    "    'Nakhalboev Juratbek Bakhodir Ugli',\n",
    "    'Abdumukhiddinov Ziyodbek Ikboljon Ugli',\n",
    "    'Bulturboev Fakhriddin Farkhod Ugli',\n",
    "    'Pivavar Darya',\n",
    "    'Siddikov Khusniddin Bekhzod Ugli'\n",
    " ]"
   ]
  },
  {
   "cell_type": "code",
   "execution_count": null,
   "metadata": {},
   "outputs": [],
   "source": [
    "div002_student_names = [\n",
    "    'Mukhammadov Muminjon Otajon Ugli',\n",
    "    'Kutlimuratov Madrakhim Khushnud Ugli',\n",
    "    'Akimov Sarvar Ravshan Ugli',\n",
    "    'Akhmadjonov Samandar Anvarjon Ugli',\n",
    "    'Shokirov Saidalo Nematillo Ugli',\n",
    "    'Sharifov Azizbek Sharofovich',\n",
    "    'Khudaynazarov Sunnatbek Bakhodir Ugli',\n",
    "    'Carrasco Soriano Diana Laura',\n",
    "    'Zokirov Diyorbek Botir Ugli',\n",
    "    'Muhammadkhonov Mavlonkhon Muhriddinkho',\n",
    "    'Vu Nguyen Bao Ngoc',\n",
    "    'Murtozaev Sardor Muzaffar Ugli',\n",
    "    'Rustamov Shamsiddin Azam Ugli',\n",
    "    'Kakharova Sevinch Javlon Kizi',\n",
    "    'Jabborov Sunnatjon Bakhtiyor Ugli',\n",
    "    'Hamidkhonov Amirkhon Obidkhon Ugli',\n",
    "    'Mustafakulov Azizbek Furkat Ugli',\n",
    "    'Ziyaviddinov Ibrohim Ilhom Ugli',\n",
    "    'Turaev Jahongir Bakhtiyorovich',\n",
    "    'Ishonkulov Jakhongir Khusan Ugli',\n",
    "    'Chinieva Shokhida Dilshodovna',\n",
    "    'Khamdamov Kamronbek Laziz Ugli',\n",
    "    'Tursunov Firdavs Farhodovich',\n",
    "    'Ha Thi My Linh',\n",
    "    'Kurbonova Nilufar Mizrobovna',\n",
    "    'Orziev Diyorbek Matnazar Ugli',\n",
    "    'Obidov Dilshod Khurshedovich',\n",
    "    'Togaev Ravshan Khayritdin Ugli',\n",
    "    'Shodmonov Rustam Bakhtiyor Ugli',\n",
    "    'Khudoyberdiev Madaminbek Pulat Ugli',\n",
    "    'Ilhomov Mansur Ilhom Ugli',\n",
    "    'Kakhorjonov Mansurbek Tokhirjon Ugli',\n",
    "    'Tsogoo Munkhzul',\n",
    "    'Adhamov Muhammadaziz Gayratjon Ugli',\n",
    "    'Koilybay Miras',\n",
    "    'Muhammedov Mironshoh Mirkhon Ugli',\n",
    "    'Abdurasulov Mirsaid Alimardonovich',\n",
    "    'Nematjonov Bahodir Nurmukhamad Ugli',\n",
    "    'Pak Georgiy',\n",
    "    'Abduvokhidov Bekmurod Abdulkhodi Ugli',\n",
    "    'Eshmirzaev Sarvar Raufjonovich',\n",
    "    'Kosimov Shamskamar Jahongir Ugli',\n",
    "    'Baratov Sokhibjon Khurshedovich',\n",
    "    'Shokulov Shohruh Tuymurod Ugli',\n",
    "    'Meliboev Shukurullo Fakhriddin Ugli',\n",
    "    'Baktybek Uulu Arsen',\n",
    "    'Shermirzaev Abbosbek Isroiljon Ugli',\n",
    "    'Kiyomov Asadbek Kosimjon Ugli',\n",
    "    'Mukhtorjonov Asilbek Murodjon Ugli',\n",
    "    'Suiindik Akniyet',\n",
    "    'Nabijonov Javokhir Pulatjon Ugli',\n",
    "    'Nimatilaev Javokhir Izatillo Ugli',\n",
    "    'Khursanaliev Javokhir Mukhiddin Ugli',\n",
    "    'Abdulkhodiev Jobirkhon Rus Tamjon Ugli',\n",
    "    'Malabon Julliane Samantha',\n",
    "    'Chaw Thiri San',\n",
    "    'Sobitkhonov Kudratkhon Odilkhon Ugli',\n",
    "    'Bekzhanov Tariel Bekzhanovich',\n",
    "    'Raykhonov Tilov Alisher Ugli',\n",
    "    'Otamirzaev Fayozbek Farkhodjon Ugli',\n",
    "    'Pirmatov Feruzbek Ermat Ugli',\n",
    "    'Davlatov Hamidullo Nosirjon Ugli'\n",
    " ]"
   ]
  },
  {
   "cell_type": "markdown",
   "metadata": {},
   "source": [
    "# The Tuple Data Type\n",
    "- mutable vs immutable"
   ]
  },
  {
   "cell_type": "code",
   "execution_count": null,
   "metadata": {},
   "outputs": [],
   "source": []
  },
  {
   "cell_type": "markdown",
   "metadata": {},
   "source": [
    "# Converting Types with the list() and tuple() Functions\n"
   ]
  },
  {
   "cell_type": "code",
   "execution_count": null,
   "metadata": {},
   "outputs": [],
   "source": []
  },
  {
   "cell_type": "markdown",
   "metadata": {},
   "source": [
    "## References\n"
   ]
  },
  {
   "cell_type": "code",
   "execution_count": null,
   "metadata": {},
   "outputs": [],
   "source": [
    "# simple data types"
   ]
  },
  {
   "cell_type": "code",
   "execution_count": null,
   "metadata": {},
   "outputs": [],
   "source": [
    "# lists\n",
    "spam = [0, 1, 2, 3, 4, 5]\n",
    "cheese = spam # The reference is being copied, not the list.\n",
    "cheese[1] = 'Hello!' # This changes the list value."
   ]
  },
  {
   "cell_type": "markdown",
   "metadata": {},
   "source": [
    "## Identity and the id() Function\n"
   ]
  },
  {
   "cell_type": "code",
   "execution_count": 10,
   "metadata": {},
   "outputs": [
    {
     "data": {
      "text/plain": [
       "140404532918704"
      ]
     },
     "execution_count": 10,
     "metadata": {},
     "output_type": "execute_result"
    }
   ],
   "source": [
    "id('Howdy') # The returned number will be different on your machine."
   ]
  },
  {
   "cell_type": "code",
   "execution_count": 11,
   "metadata": {},
   "outputs": [
    {
     "data": {
      "text/plain": [
       "140404441907952"
      ]
     },
     "execution_count": 11,
     "metadata": {},
     "output_type": "execute_result"
    }
   ],
   "source": [
    "bacon = 'Hello'\n",
    "id(bacon)"
   ]
  },
  {
   "cell_type": "code",
   "execution_count": null,
   "metadata": {},
   "outputs": [],
   "source": [
    "bacon += ' world!' # A new string is made from 'Hello' and ' world!'.\n",
    "id(bacon)"
   ]
  },
  {
   "cell_type": "markdown",
   "metadata": {},
   "source": [
    "## Passing references"
   ]
  },
  {
   "cell_type": "code",
   "execution_count": null,
   "metadata": {},
   "outputs": [],
   "source": [
    "def eggs(someParameter):\n",
    "    someParameter.append('Hello')\n",
    "\n",
    "spam = [1, 2, 3]\n",
    "eggs(spam)\n",
    "print(spam)"
   ]
  },
  {
   "cell_type": "markdown",
   "metadata": {},
   "source": [
    "- how to prevent that?"
   ]
  },
  {
   "cell_type": "code",
   "execution_count": null,
   "metadata": {},
   "outputs": [],
   "source": []
  },
  {
   "cell_type": "markdown",
   "metadata": {},
   "source": [
    "## The copy Module’s copy()  Functions\n"
   ]
  },
  {
   "cell_type": "code",
   "execution_count": null,
   "metadata": {},
   "outputs": [],
   "source": []
  },
  {
   "cell_type": "code",
   "execution_count": null,
   "metadata": {},
   "outputs": [],
   "source": []
  },
  {
   "cell_type": "code",
   "execution_count": null,
   "metadata": {},
   "outputs": [],
   "source": []
  },
  {
   "cell_type": "markdown",
   "metadata": {},
   "source": [
    "# Homework 5"
   ]
  },
  {
   "cell_type": "markdown",
   "metadata": {},
   "source": [
    "### Q0. for Q0, you write a short program\n",
    "- define a function that \n",
    "    - takes two params as shown below\n",
    "    - removes given subject from the list\n",
    "    - returns the reduced list\n",
    "- run the function definition\n",
    "- call your defined function with the following arguments\n"
   ]
  },
  {
   "cell_type": "code",
   "execution_count": null,
   "metadata": {},
   "outputs": [],
   "source": [
    "def drop_subject(all_subjects, name_of_the_subject_to_drop):\n",
    "    # --write your code below this line--\n",
    "\n",
    "    # remove the subject to be dropped from the list\n",
    "    # return reduced list\n",
    "    \n"
   ]
  },
  {
   "cell_type": "code",
   "execution_count": null,
   "metadata": {},
   "outputs": [],
   "source": [
    "### Then call your defined function with the following arguments:\n",
    "drop_subject(['SW','Korean Lang','Math','Business','Other'], 'SW')"
   ]
  },
  {
   "cell_type": "code",
   "execution_count": null,
   "metadata": {},
   "outputs": [],
   "source": []
  },
  {
   "cell_type": "markdown",
   "metadata": {},
   "source": [
    "\n",
    "### Q1. What is []?\n",
    "\n",
    "### Q2. How would you assign the value 'hello' as the third value in a list stored in a variable named spam? (Assume spam contains [2, 4, 6, 8, 10].)\n",
    "\n",
    "\n"
   ]
  },
  {
   "cell_type": "code",
   "execution_count": null,
   "metadata": {},
   "outputs": [],
   "source": []
  },
  {
   "cell_type": "markdown",
   "metadata": {},
   "source": [
    "For the following three questions, let’s say spam contains the list ['a', 'b', 'c', 'd'].\n",
    "\n",
    "### Q3. What does spam[int(int('3' * 2) // 11)] evaluate to?\n",
    "\n",
    "### Q4. What does spam[-1] evaluate to?\n",
    "\n",
    "### Q5. What does spam[:2] evaluate to?\n"
   ]
  },
  {
   "cell_type": "code",
   "execution_count": null,
   "metadata": {},
   "outputs": [],
   "source": []
  },
  {
   "cell_type": "markdown",
   "metadata": {},
   "source": [
    "For the following three questions, let’s say bacon contains the list [3.14, 'cat', 11, 'cat', True].\n",
    "\n",
    "## Q6. What does bacon.index('cat') evaluate to?\n",
    "\n",
    "## Q7. What does bacon.append(99) make the list value in bacon look like?\n",
    "\n",
    "## Q8. What does bacon.remove('cat') make the list value in bacon look like?"
   ]
  },
  {
   "cell_type": "markdown",
   "metadata": {},
   "source": []
  }
 ],
 "metadata": {
  "kernelspec": {
   "display_name": "Python 3.10.4 ('yolov7')",
   "language": "python",
   "name": "python3"
  },
  "language_info": {
   "codemirror_mode": {
    "name": "ipython",
    "version": 3
   },
   "file_extension": ".py",
   "mimetype": "text/x-python",
   "name": "python",
   "nbconvert_exporter": "python",
   "pygments_lexer": "ipython3",
   "version": "3.10.4"
  },
  "orig_nbformat": 4,
  "vscode": {
   "interpreter": {
    "hash": "65a8b7be8cd8e16782ed156f0fe86ab5956617054abcb425012a55b6120c596c"
   }
  }
 },
 "nbformat": 4,
 "nbformat_minor": 2
}
